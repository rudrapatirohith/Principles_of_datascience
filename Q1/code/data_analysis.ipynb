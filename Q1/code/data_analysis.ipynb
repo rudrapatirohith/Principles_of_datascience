{
 "cells": [
  {
   "cell_type": "code",
   "execution_count": 41,
   "id": "83a8bed0",
   "metadata": {},
   "outputs": [],
   "source": [
    "import pandas as pd"
   ]
  },
  {
   "cell_type": "code",
   "execution_count": 42,
   "id": "5a9c46b5",
   "metadata": {},
   "outputs": [],
   "source": [
    "# importing clean data for analysis"
   ]
  },
  {
   "cell_type": "code",
   "execution_count": 43,
   "id": "a470c608",
   "metadata": {},
   "outputs": [
    {
     "name": "stdout",
     "output_type": "stream",
     "text": [
      "   Unnamed: 0  S.No  Height  Weight  Age  Grip Strength Frailty\n",
      "0           0     0    65.8     112   30             30       N\n",
      "1           1     1    71.5     136   19             31       N\n",
      "2           2     2    69.4     153   45             29       N\n",
      "3           3     3    68.2     142   22             28       Y\n",
      "4           4     4    67.8     144   29             24       Y\n",
      "5           5     5    68.7     123   50             26       N\n",
      "6           6     6    69.8     141   51             22       Y\n",
      "7           7     7    70.1     136   23             20       Y\n",
      "8           8     8    67.9     112   17             19       N\n",
      "9           9     9    66.8     120   39             31       N\n"
     ]
    }
   ],
   "source": [
    "data_frame = pd.read_csv('C:/Users/rudra/OneDrive/Desktop/PDS/Q1/frailty_clean.csv')\n",
    "print(data_frame.to_string())"
   ]
  },
  {
   "cell_type": "code",
   "execution_count": 44,
   "id": "5f43fb61",
   "metadata": {},
   "outputs": [
    {
     "name": "stdout",
     "output_type": "stream",
     "text": [
      "<class 'pandas.core.frame.DataFrame'>\n",
      "RangeIndex: 10 entries, 0 to 9\n",
      "Data columns (total 7 columns):\n",
      " #   Column         Non-Null Count  Dtype  \n",
      "---  ------         --------------  -----  \n",
      " 0   Unnamed: 0     10 non-null     int64  \n",
      " 1   S.No           10 non-null     int64  \n",
      " 2   Height         10 non-null     float64\n",
      " 3   Weight         10 non-null     int64  \n",
      " 4   Age            10 non-null     int64  \n",
      " 5   Grip Strength  10 non-null     int64  \n",
      " 6   Frailty        10 non-null     object \n",
      "dtypes: float64(1), int64(5), object(1)\n",
      "memory usage: 688.0+ bytes\n"
     ]
    }
   ],
   "source": [
    "data_frame.info()"
   ]
  },
  {
   "cell_type": "code",
   "execution_count": 45,
   "id": "5bd588f9",
   "metadata": {},
   "outputs": [],
   "source": [
    "import matplotlib.pyplot as plt\n",
    "import seaborn as sns\n",
    "import numpy as np"
   ]
  },
  {
   "cell_type": "code",
   "execution_count": 46,
   "id": "9859d4ae",
   "metadata": {},
   "outputs": [],
   "source": [
    "# the below visualization illustrates the relation between the gripstrength and weight and how it varies on weight."
   ]
  },
  {
   "cell_type": "code",
   "execution_count": 47,
   "id": "89bd0805",
   "metadata": {},
   "outputs": [
    {
     "data": {
      "image/png": "[encoded data removed]",
      "text/plain": [
       "<Figure size 432x288 with 1 Axes>"
      ]
     },
     "metadata": {
      "needs_background": "light"
     },
     "output_type": "display_data"
    }
   ],
   "source": [
    "axis_ = data_frame.plot.scatter(x='Weight',y='Grip Strength',color='orange')\n",
    "fig_ = axis_.get_figure()\n",
    "fig_.savefig(\"C:/Users/rudra/OneDrive/Desktop/PDS/Q1/GripStrength_Weight_Relation.png\")"
   ]
  },
  {
   "cell_type": "code",
   "execution_count": 48,
   "id": "bc8ec8de",
   "metadata": {},
   "outputs": [],
   "source": [
    "# the below graph illustrstes the distribution of Gripstrength in the given data"
   ]
  },
  {
   "cell_type": "code",
   "execution_count": 49,
   "id": "fcb96b5c",
   "metadata": {},
   "outputs": [
    {
     "data": {
      "image/png": "[encoded data removed]",
      "text/plain": [
       "<Figure size 432x288 with 1 Axes>"
      ]
     },
     "metadata": {
      "needs_background": "light"
     },
     "output_type": "display_data"
    }
   ],
   "source": [
    "plt.hist(data_frame['Grip Strength'],bins=35,edgecolor='k',color='grey')\n",
    "plt.savefig(\"C:/Users/rudra/OneDrive/Desktop/PDS/Q1/Grip_Strength_Distribution.png\")\n",
    "plt.xlabel('Grip Strength')\n",
    "plt.show()"
   ]
  },
  {
   "cell_type": "code",
   "execution_count": null,
   "id": "93b029f0",
   "metadata": {},
   "outputs": [],
   "source": []
  },
  {
   "cell_type": "code",
   "execution_count": null,
   "id": "5b077810",
   "metadata": {},
   "outputs": [],
   "source": []
  }
 ],
 "metadata": {
  "kernelspec": {
   "display_name": "Python 3 (ipykernel)",
   "language": "python",
   "name": "python3"
  },
  "language_info": {
   "codemirror_mode": {
    "name": "ipython",
    "version": 3
   },
   "file_extension": ".py",
   "mimetype": "text/x-python",
   "name": "python",
   "nbconvert_exporter": "python",
   "pygments_lexer": "ipython3",
   "version": "3.9.12"
  }
 },
 "nbformat": 4,
 "nbformat_minor": 5
}
